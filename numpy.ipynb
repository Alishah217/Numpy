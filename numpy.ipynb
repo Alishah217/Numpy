{
 "cells": [
  {
   "cell_type": "code",
   "execution_count": 5,
   "id": "df49a172-faa5-4406-9fc1-7da36e86c4f0",
   "metadata": {},
   "outputs": [],
   "source": [
    "import numpy as np\n"
   ]
  },
  {
   "cell_type": "code",
   "execution_count": 7,
   "id": "0b7d86e6-78dd-4451-ba63-20f8f98a1843",
   "metadata": {},
   "outputs": [
    {
     "name": "stdout",
     "output_type": "stream",
     "text": [
      "[1 2 3 4]\n",
      "<class 'numpy.ndarray'>\n"
     ]
    }
   ],
   "source": [
    "arr = np.array([1,2,3,4])\n",
    "print(arr)\n",
    "print(type(arr))"
   ]
  },
  {
   "cell_type": "code",
   "execution_count": 10,
   "id": "02867bba-4a73-4d1b-b815-8f659a7927db",
   "metadata": {},
   "outputs": [
    {
     "name": "stdout",
     "output_type": "stream",
     "text": [
      "[1 2 3 4 5]\n",
      "<class 'numpy.ndarray'>\n"
     ]
    }
   ],
   "source": [
    "arr = np.array((1,2,3,4,5))\n",
    "print(arr)\n",
    "print(type(arr))"
   ]
  },
  {
   "cell_type": "code",
   "execution_count": null,
   "id": "cfe0ab19-c4a8-490d-8bbb-36e319ad4766",
   "metadata": {},
   "outputs": [],
   "source": [
    "Dimensions array"
   ]
  },
  {
   "cell_type": "code",
   "execution_count": 13,
   "id": "6e716755-d866-4d09-ba1c-c702c68f47fe",
   "metadata": {},
   "outputs": [
    {
     "name": "stdout",
     "output_type": "stream",
     "text": [
      "20\n",
      "<class 'numpy.ndarray'>\n",
      "0\n"
     ]
    }
   ],
   "source": [
    "arr = np.array(20)\n",
    "print(arr)\n",
    "print(type(arr))\n",
    "print(arr.ndim)"
   ]
  },
  {
   "cell_type": "code",
   "execution_count": null,
   "id": "c418f77a-435c-4f55-ac1d-f9c501550308",
   "metadata": {},
   "outputs": [],
   "source": [
    "1 d array"
   ]
  },
  {
   "cell_type": "code",
   "execution_count": 14,
   "id": "657eadcb-d0ff-44b3-8b99-04ba4caeac3c",
   "metadata": {},
   "outputs": [
    {
     "name": "stdout",
     "output_type": "stream",
     "text": [
      "[1 2 3 4 5 6]\n",
      "1\n"
     ]
    }
   ],
   "source": [
    "arr = np.array()\n",
    "print(arr)\n",
    "print(arr.ndim)"
   ]
  },
  {
   "cell_type": "code",
   "execution_count": null,
   "id": "7c85cd3e-a89a-4fce-b0ac-fbab8eb6c5e0",
   "metadata": {},
   "outputs": [],
   "source": [
    "2 d array"
   ]
  },
  {
   "cell_type": "code",
   "execution_count": 17,
   "id": "cf0faaa8-190e-4479-8fb5-68a04de88f57",
   "metadata": {},
   "outputs": [
    {
     "name": "stdout",
     "output_type": "stream",
     "text": [
      "[[1 2 3]\n",
      " [5 6 7]]\n",
      "2\n"
     ]
    }
   ],
   "source": [
    "arr = np.array([[1,2,3],[5,6,7]])\n",
    "print(arr)\n",
    "print(arr.ndim)"
   ]
  },
  {
   "cell_type": "code",
   "execution_count": null,
   "id": "7eeb53ec-79bd-40ba-88d4-ad387d2f2292",
   "metadata": {},
   "outputs": [],
   "source": [
    "3 d array"
   ]
  },
  {
   "cell_type": "code",
   "execution_count": 21,
   "id": "65f1ebc3-8249-4c21-b4c7-0a477a60fd75",
   "metadata": {},
   "outputs": [
    {
     "name": "stdout",
     "output_type": "stream",
     "text": [
      "[[[1 2 3]\n",
      "  [5 6 7]]\n",
      "\n",
      " [[3 2 1]\n",
      "  [8 9 0]]]\n",
      "3\n"
     ]
    }
   ],
   "source": [
    "arr = np.array([[[1,2,3],[5,6,7]],[[3,2,1],[8,9,0]]])\n",
    "print(arr)\n",
    "print(arr.ndim)"
   ]
  },
  {
   "cell_type": "code",
   "execution_count": 22,
   "id": "c232498e-ddf5-4612-be7f-c9934164f6da",
   "metadata": {},
   "outputs": [
    {
     "name": "stdout",
     "output_type": "stream",
     "text": [
      "[[[[[1 2 3 4]]]]]\n",
      "Number of dimensions : 5\n"
     ]
    }
   ],
   "source": [
    "arr = np.array([1,2,3,4], ndmin=5))\n",
    "\n",
    "print(arr)\n",
    "print('Number of dimensions :', arr.ndim)"
   ]
  },
  {
   "cell_type": "code",
   "execution_count": 23,
   "id": "95b5e6f4-0656-4d7d-803f-1af9937adaa0",
   "metadata": {},
   "outputs": [
    {
     "name": "stdout",
     "output_type": "stream",
     "text": [
      "2\n"
     ]
    }
   ],
   "source": [
    "#indexing\n",
    "arr = np.array([2,3,4,5])\n",
    "print(arr[0])"
   ]
  },
  {
   "cell_type": "code",
   "execution_count": null,
   "id": "70980a94-0031-4273-b5fc-dd5400482a68",
   "metadata": {},
   "outputs": [],
   "source": [
    "Part 2"
   ]
  },
  {
   "cell_type": "code",
   "execution_count": null,
   "id": "1bbd8098-bfb4-4f61-9cf9-3ed6af877e63",
   "metadata": {},
   "outputs": [],
   "source": [
    "Slicing numpy arrays"
   ]
  },
  {
   "cell_type": "code",
   "execution_count": 2,
   "id": "7babec2e-d6e2-4e4c-8331-d4b2b7d93776",
   "metadata": {},
   "outputs": [],
   "source": [
    "import numpy as np"
   ]
  },
  {
   "cell_type": "code",
   "execution_count": 3,
   "id": "ceb7300e-8d39-46be-a4ec-11c703809213",
   "metadata": {},
   "outputs": [
    {
     "name": "stdout",
     "output_type": "stream",
     "text": [
      "[2 3 4 5]\n"
     ]
    }
   ],
   "source": [
    "arr = np.array([1,2,3,4,5,6,7])\n",
    "print(arr[1:5])"
   ]
  },
  {
   "cell_type": "code",
   "execution_count": 4,
   "id": "e56a5b59-4543-4517-a3e8-c6fb43b67f98",
   "metadata": {},
   "outputs": [
    {
     "name": "stdout",
     "output_type": "stream",
     "text": [
      "[1 3 5 7]\n"
     ]
    }
   ],
   "source": [
    "arr = np.array([1,2,3,4,5,6,7])\n",
    "print(arr[::2])"
   ]
  },
  {
   "cell_type": "code",
   "execution_count": null,
   "id": "76f820bc-fb56-4af0-a354-24976273e5d0",
   "metadata": {},
   "outputs": [],
   "source": [
    "Slicing in 2D array"
   ]
  },
  {
   "cell_type": "code",
   "execution_count": 9,
   "id": "f071c57a-1a36-4b15-8b5c-f736064b74b2",
   "metadata": {},
   "outputs": [
    {
     "name": "stdout",
     "output_type": "stream",
     "text": [
      "[70 80 90]\n"
     ]
    }
   ],
   "source": [
    "arr = np.array([[10,20,30,40,50],[60,70,80,90,100]])\n",
    "print(arr[1,1:4])"
   ]
  },
  {
   "cell_type": "code",
   "execution_count": 11,
   "id": "d97753cb-c559-4daf-80b7-5ac4adecccb3",
   "metadata": {},
   "outputs": [
    {
     "name": "stdout",
     "output_type": "stream",
     "text": [
      "[10 20 30]\n"
     ]
    }
   ],
   "source": [
    "arr = np.array([[10,20,30,40,50],[60,70,80,90,100]])\n",
    "print(arr[0,0:3])"
   ]
  },
  {
   "cell_type": "code",
   "execution_count": null,
   "id": "10f81b4e-d114-4dd1-bf60-b1c0d1184c82",
   "metadata": {},
   "outputs": [],
   "source": [
    "Checking Data types of an  array"
   ]
  },
  {
   "cell_type": "code",
   "execution_count": 12,
   "id": "8739b0ed-fb73-4827-a430-b9b9d3dc7cb1",
   "metadata": {},
   "outputs": [
    {
     "name": "stdout",
     "output_type": "stream",
     "text": [
      "int64\n"
     ]
    }
   ],
   "source": [
    "arr = np.array([1,2,3,4,5,6,7])\n",
    "print(arr.dtype)"
   ]
  },
  {
   "cell_type": "code",
   "execution_count": 13,
   "id": "ebd98a59-6772-47d0-84f4-c74fea48ebe7",
   "metadata": {},
   "outputs": [
    {
     "name": "stdout",
     "output_type": "stream",
     "text": [
      "<U7\n"
     ]
    }
   ],
   "source": [
    "arr = np.array(['animals','bat','cat'])\n",
    "print(arr.dtype)"
   ]
  },
  {
   "cell_type": "code",
   "execution_count": null,
   "id": "e9661a22-df19-4ccb-82d3-c23a4eafd9fb",
   "metadata": {},
   "outputs": [],
   "source": [
    "Creating arrays withe defined data type"
   ]
  },
  {
   "cell_type": "code",
   "execution_count": 14,
   "id": "31f160e2-bfbb-4ec4-87e0-bc6daa8933c7",
   "metadata": {},
   "outputs": [
    {
     "name": "stdout",
     "output_type": "stream",
     "text": [
      "[b'1' b'2' b'3' b'4' b'5' b'6' b'7']\n",
      "|S1\n"
     ]
    }
   ],
   "source": [
    "arr = np.array([1,2,3,4,5,6,7], dtype ='S')\n",
    "print(arr)\n",
    "print(arr.dtype)"
   ]
  },
  {
   "cell_type": "code",
   "execution_count": null,
   "id": "20bdf964-a592-487d-b640-384a1da5f3d6",
   "metadata": {},
   "outputs": [],
   "source": [
    "Create an array with data types 4 bytes integer"
   ]
  },
  {
   "cell_type": "code",
   "execution_count": 15,
   "id": "d60a3b86-1921-4113-b18f-b6b7cc8cc259",
   "metadata": {},
   "outputs": [
    {
     "name": "stdout",
     "output_type": "stream",
     "text": [
      "[1 2 3 4]\n",
      "int32\n"
     ]
    }
   ],
   "source": [
    "arr = np.array([1,2,3,4], dtype = 'i4')\n",
    "print(arr)\n",
    "print(arr.dtype)"
   ]
  },
  {
   "cell_type": "code",
   "execution_count": null,
   "id": "ac13547e-7ae7-4432-894e-0e946c76fad1",
   "metadata": {},
   "outputs": [],
   "source": [
    "Numpy array Shape"
   ]
  },
  {
   "cell_type": "markdown",
   "id": "5fe0ec1b-b977-4a24-9eed-633e6e7f3c1e",
   "metadata": {},
   "source": [
    "#The shape of an array is the number of elemnts in each dimension"
   ]
  },
  {
   "cell_type": "code",
   "execution_count": 16,
   "id": "cd8d0d49-8a45-4c8f-9ddd-8cc75074119b",
   "metadata": {},
   "outputs": [
    {
     "name": "stdout",
     "output_type": "stream",
     "text": [
      "(2, 4)\n"
     ]
    }
   ],
   "source": [
    "arr = np.array([[1,2,3,4],[5,6,7,8]])\n",
    "print(arr.shape)"
   ]
  },
  {
   "cell_type": "code",
   "execution_count": 18,
   "id": "84e33ed1-450a-410e-9946-0009b61c38bf",
   "metadata": {},
   "outputs": [
    {
     "name": "stdout",
     "output_type": "stream",
     "text": [
      "(1, 3, 4)\n"
     ]
    }
   ],
   "source": [
    "arr = np.array([[[1,2,3,4],[5,6,7,8],[10,20,30,40]]])\n",
    "print(arr.shape)"
   ]
  },
  {
   "cell_type": "code",
   "execution_count": null,
   "id": "6f4aceb2-21f2-4051-8c59-e29738b62195",
   "metadata": {},
   "outputs": [],
   "source": [
    "Joining Numpy Arrays"
   ]
  },
  {
   "cell_type": "code",
   "execution_count": 2,
   "id": "0ebbfeec-6b91-4558-838b-9112cd4ef54d",
   "metadata": {},
   "outputs": [],
   "source": [
    "import numpy as np"
   ]
  },
  {
   "cell_type": "code",
   "execution_count": 3,
   "id": "888893e7-0a4d-445d-a39d-4933bbf9abf7",
   "metadata": {},
   "outputs": [
    {
     "name": "stdout",
     "output_type": "stream",
     "text": [
      "[1 2 3 4 5 6]\n"
     ]
    }
   ],
   "source": [
    "arr1 = np.array([1,2,3])\n",
    "arr2 = np.array([4,5,6])\n",
    "\n",
    "arr = np.concatenate((arr1, arr2))\n",
    "print(arr)"
   ]
  },
  {
   "cell_type": "code",
   "execution_count": null,
   "id": "4e859c01-358d-4f41-9a0a-90168ad2d2e5",
   "metadata": {},
   "outputs": [],
   "source": [
    "Join 2D arrays"
   ]
  },
  {
   "cell_type": "code",
   "execution_count": 4,
   "id": "0aed4104-4c84-44a7-89aa-bf4cfc328fad",
   "metadata": {},
   "outputs": [
    {
     "name": "stdout",
     "output_type": "stream",
     "text": [
      "[[1 2 5 6]\n",
      " [3 4 7 8]]\n"
     ]
    }
   ],
   "source": [
    "arr1 = np.array([[1,2], [3,4]])\n",
    "arr2 = np.array([[5,6], [7,8]])\n",
    "\n",
    "arr = np.concatenate((arr1, arr2), axis = 1)\n",
    "print(arr)"
   ]
  },
  {
   "cell_type": "code",
   "execution_count": 5,
   "id": "747bd475-1869-44cc-a48d-d174011d53f1",
   "metadata": {},
   "outputs": [
    {
     "name": "stdout",
     "output_type": "stream",
     "text": [
      "[[1 2]\n",
      " [3 4]\n",
      " [5 6]\n",
      " [7 8]]\n"
     ]
    }
   ],
   "source": [
    "arr1 = np.array([[1,2], [3,4]])\n",
    "arr2 = np.array([[5,6], [7,8]])\n",
    "\n",
    "arr = np.concatenate((arr1, arr2), axis = 0)\n",
    "print(arr)"
   ]
  },
  {
   "cell_type": "code",
   "execution_count": null,
   "id": "01873f26-13bb-4d33-b14b-aac359cac34c",
   "metadata": {},
   "outputs": [],
   "source": [
    "Splitting numpy arrays"
   ]
  },
  {
   "cell_type": "code",
   "execution_count": null,
   "id": "136b3e67-9ce4-4eb5-a7db-8f1b261a9553",
   "metadata": {},
   "outputs": [],
   "source": [
    "Spliting array in 3 parts"
   ]
  },
  {
   "cell_type": "code",
   "execution_count": 6,
   "id": "16d33191-5df1-40af-8250-0ea3a267f5dd",
   "metadata": {},
   "outputs": [
    {
     "name": "stdout",
     "output_type": "stream",
     "text": [
      "[array([1, 2]), array([3, 4]), array([5, 6])]\n"
     ]
    }
   ],
   "source": [
    "arr = np.array([1,2,3,4,5,6])\n",
    "\n",
    "newarr = np.array_split(arr, 3)\n",
    "\n",
    "print(newarr)"
   ]
  },
  {
   "cell_type": "code",
   "execution_count": null,
   "id": "85da4a38-8852-404a-b956-6f4595507d83",
   "metadata": {},
   "outputs": [],
   "source": [
    "Spliting array in 4 parts"
   ]
  },
  {
   "cell_type": "code",
   "execution_count": 7,
   "id": "77ef12b7-057c-476c-9135-8abc9f5c603d",
   "metadata": {},
   "outputs": [
    {
     "name": "stdout",
     "output_type": "stream",
     "text": [
      "[array([1, 2]), array([3, 4]), array([5]), array([6])]\n"
     ]
    }
   ],
   "source": [
    "arr = np.array([1,2,3,4,5,6])\n",
    "\n",
    "newarr = np.array_split(arr, 4)\n",
    "\n",
    "print(newarr)"
   ]
  },
  {
   "cell_type": "markdown",
   "id": "a058c0d1-11c4-4ddc-9a19-943df12c51bc",
   "metadata": {},
   "source": [
    "#Ravel and flatten"
   ]
  },
  {
   "cell_type": "code",
   "execution_count": null,
   "id": "9289efb1-6c92-4c11-8e61-e760979d185a",
   "metadata": {},
   "outputs": [],
   "source": [
    "Converts multidimensional array into 1d array"
   ]
  },
  {
   "cell_type": "code",
   "execution_count": 9,
   "id": "9d5a6d36-429c-4dcd-8e89-1d394b465a17",
   "metadata": {},
   "outputs": [
    {
     "name": "stdout",
     "output_type": "stream",
     "text": [
      "[[[1 2 3]\n",
      "  [4 5 6]\n",
      "  [7 8 9]]]\n",
      "dimension is  3\n",
      "[1 2 3 4 5 6 7 8 9]\n",
      "Now the new dimenion is  1\n"
     ]
    }
   ],
   "source": [
    "m= np.array([[[1,2,3], [4,5,6], [7,8,9]]])\n",
    "print(m)\n",
    "print(\"dimension is \", m.ndim)\n",
    "n = m.ravel()\n",
    "print(n)\n",
    "print(\"Now the new dimenion is \", n.ndim)"
   ]
  },
  {
   "cell_type": "code",
   "execution_count": 1,
   "id": "bd0bd213-609b-4ec5-bb8a-3c72b2136500",
   "metadata": {},
   "outputs": [],
   "source": [
    "import numpy as np\n"
   ]
  },
  {
   "cell_type": "code",
   "execution_count": 2,
   "id": "d6bfc8ee-4c10-4cff-9176-6cd8ab828ad5",
   "metadata": {},
   "outputs": [
    {
     "name": "stdout",
     "output_type": "stream",
     "text": [
      "[[[1 2 3]\n",
      "  [4 5 6]\n",
      "  [7 8 9]]]\n",
      "dimension is  3\n",
      "[1 2 3 4 5 6 7 8 9]\n",
      "Now the new dimenion is  1\n"
     ]
    }
   ],
   "source": [
    "m= np.array([[[1,2,3], [4,5,6], [7,8,9]]])\n",
    "print(m)\n",
    "print(\"dimension is \", m.ndim)\n",
    "n = m.flatten()\n",
    "print(n)\n",
    "print(\"Now the new dimenion is \", n.ndim)"
   ]
  },
  {
   "cell_type": "code",
   "execution_count": 5,
   "id": "e109b9e8-13b5-45f5-a536-9656a05e1755",
   "metadata": {},
   "outputs": [
    {
     "name": "stdout",
     "output_type": "stream",
     "text": [
      "[[[[ 1  2  3]\n",
      "   [78 89 25]\n",
      "   [45 26 84]]]]\n",
      "The dimension is 4\n",
      "[ 1  2  3 78 89 25 45 26 84]\n",
      "Now the new dimension is  1\n"
     ]
    }
   ],
   "source": [
    "c = np.array([[[[1,2,3],[78,89,25],[45,26,84]]]])\n",
    "print(c)\n",
    "print(\"The dimension is\", c.ndim)\n",
    "d = c.ravel()\n",
    "print(d)\n",
    "print(\"Now the new dimension is \", d.ndim)"
   ]
  },
  {
   "cell_type": "markdown",
   "id": "268b361d-f093-47ec-a7e8-b528c6bc30ad",
   "metadata": {},
   "source": [
    "#Unique Function"
   ]
  },
  {
   "cell_type": "code",
   "execution_count": 8,
   "id": "d3734e03-23d1-4266-876c-8d026b1c652e",
   "metadata": {},
   "outputs": [
    {
     "name": "stdout",
     "output_type": "stream",
     "text": [
      "[ 1  2  3  4  5  6  7  8 54 23 32  7  4]\n",
      "[ 1  2  3  4  5  6  7  8 23 32 54]\n"
     ]
    }
   ],
   "source": [
    "k = np.array([1,2,3,4,5,6,7,8,54,23,32,7,4])\n",
    "print(k)\n",
    "x = np.unique(k)\n",
    "print(x)"
   ]
  },
  {
   "cell_type": "code",
   "execution_count": 9,
   "id": "cc28807b-4626-498c-9cd2-49a5db9b11b9",
   "metadata": {},
   "outputs": [
    {
     "name": "stdout",
     "output_type": "stream",
     "text": [
      "[ 1  2  3  4  5  6  7  8 54 23 32  7  4]\n",
      "(array([ 1,  2,  3,  4,  5,  6,  7,  8, 23, 32, 54]), array([ 0,  1,  2,  3,  4,  5,  6,  7,  9, 10,  8]))\n"
     ]
    }
   ],
   "source": [
    "k = np.array([1,2,3,4,5,6,7,8,54,23,32,7,4])\n",
    "print(k)\n",
    "x = np.unique(k, return_index = True)\n",
    "print(x)"
   ]
  },
  {
   "cell_type": "code",
   "execution_count": 12,
   "id": "536aa4aa-15ca-4a55-95a2-f7eae9651036",
   "metadata": {},
   "outputs": [
    {
     "name": "stdout",
     "output_type": "stream",
     "text": [
      "[ 1  2  3  4  5  6  7  8 54 23 32  7  4]\n",
      "(array([ 1,  2,  3,  4,  5,  6,  7,  8, 23, 32, 54]), array([ 0,  1,  2,  3,  4,  5,  6,  7,  9, 10,  8]), array([1, 1, 1, 2, 1, 1, 2, 1, 1, 1, 1]))\n"
     ]
    }
   ],
   "source": [
    "k = np.array([1,2,3,4,5,6,7,8,54,23,32,7,4])\n",
    "print(k)\n",
    "x = np.unique(k, return_index = True, return_counts = True)\n",
    "print(x)"
   ]
  },
  {
   "cell_type": "code",
   "execution_count": 14,
   "id": "c003757a-226d-4a7d-a3ca-f1ae0b33e0b7",
   "metadata": {},
   "outputs": [
    {
     "name": "stdout",
     "output_type": "stream",
     "text": [
      "[1 2 4 5]\n"
     ]
    }
   ],
   "source": [
    "a = np.array([1,2,3,4,5])\n",
    "d = np.delete(a, [2])\n",
    "print(d)"
   ]
  },
  {
   "cell_type": "code",
   "execution_count": 16,
   "id": "2895f8e7-1be2-4b27-97a2-a8ed82db5b70",
   "metadata": {},
   "outputs": [
    {
     "name": "stdout",
     "output_type": "stream",
     "text": [
      "[[1 2 3 4]\n",
      " [5 6 7 8]\n",
      " [9 3 6 3]]\n",
      "\n",
      "[[1 2 3 4]\n",
      " [9 3 6 3]]\n"
     ]
    }
   ],
   "source": [
    "a = np.array([[1,2,3,4],[5,6,7,8],[9,3,6,3]])\n",
    "print(a)\n",
    "b = np.delete(a, 1, axis = 0)\n",
    "print()\n",
    "print(b)"
   ]
  },
  {
   "cell_type": "code",
   "execution_count": null,
   "id": "7d9a752c-1447-45a6-acfb-974531c38c4d",
   "metadata": {},
   "outputs": [],
   "source": []
  }
 ],
 "metadata": {
  "kernelspec": {
   "display_name": "Python 3 (ipykernel)",
   "language": "python",
   "name": "python3"
  },
  "language_info": {
   "codemirror_mode": {
    "name": "ipython",
    "version": 3
   },
   "file_extension": ".py",
   "mimetype": "text/x-python",
   "name": "python",
   "nbconvert_exporter": "python",
   "pygments_lexer": "ipython3",
   "version": "3.13.1"
  }
 },
 "nbformat": 4,
 "nbformat_minor": 5
}
